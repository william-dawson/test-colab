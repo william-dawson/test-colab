{
  "nbformat": 4,
  "nbformat_minor": 0,
  "metadata": {
    "colab": {
      "provenance": [],
      "collapsed_sections": []
    },
    "kernelspec": {
      "name": "python3",
      "display_name": "Python 3"
    },
    "language_info": {
      "name": "python"
    }
  },
  "cells": [
    {
      "cell_type": "markdown",
      "source": [
        "Download the archive I made with conda build."
      ],
      "metadata": {
        "id": "ZJ80FSHQw8kz"
      }
    },
    {
      "cell_type": "code",
      "execution_count": null,
      "metadata": {
        "id": "XJqQsYKzuViu"
      },
      "outputs": [],
      "source": [
        "! git clone https://gitlab.com/wddawson/test-tar.git"
      ]
    },
    {
      "cell_type": "markdown",
      "source": [
        "Install conda on colab."
      ],
      "metadata": {
        "id": "_cicmzxDxBFw"
      }
    },
    {
      "cell_type": "code",
      "source": [
        "!pip install -q condacolab\n",
        "import condacolab\n",
        "condacolab.install()"
      ],
      "metadata": {
        "id": "PNKQ2OJ-uWR6"
      },
      "execution_count": null,
      "outputs": []
    },
    {
      "cell_type": "markdown",
      "source": [
        "Wait a moment and make sure the last cell executed and the kernel has restarted correctly. Then continue with installing from the tar."
      ],
      "metadata": {
        "id": "2qzjOHJ1xC-a"
      }
    },
    {
      "cell_type": "code",
      "source": [
        "! conda install test-tar/bigdft-suite-1.9.3_rc.2-mpi_openmpi_py37h008c211_0.tar.bz2"
      ],
      "metadata": {
        "id": "B8mV20AEuXhC"
      },
      "execution_count": null,
      "outputs": []
    },
    {
      "cell_type": "markdown",
      "source": [
        "For some reason, I didn't package libgfortran right, so we got to install it."
      ],
      "metadata": {
        "id": "L4V0XjxNxPg3"
      }
    },
    {
      "cell_type": "code",
      "source": [
        "! conda install -c conda-forge libgfortran"
      ],
      "metadata": {
        "id": "r1eW5e6uvkDa"
      },
      "execution_count": null,
      "outputs": []
    },
    {
      "cell_type": "markdown",
      "source": [
        "We also can't properly run the activate command or source the variables from inside the notebook, so the value of `BigDFT_ROOT` is wrong. That's why I set it."
      ],
      "metadata": {
        "id": "1e46B5q4xUYR"
      }
    },
    {
      "cell_type": "code",
      "source": [
        "from os import environ\n",
        "environ[\"BIGDFT_ROOT\"] = \"/usr/local/bin\""
      ],
      "metadata": {
        "id": "4xgQl9UAvdiM"
      },
      "execution_count": null,
      "outputs": []
    },
    {
      "cell_type": "markdown",
      "source": [
        "Now run the code."
      ],
      "metadata": {
        "id": "5kliS-KNxcrb"
      }
    },
    {
      "cell_type": "code",
      "source": [
        "# Test that we can import everything\n",
        "import futile\n",
        "import BigDFT\n",
        "\n",
        "# Test A Full Calculation with PyBigDFT\n",
        "from BigDFT.Systems import System\n",
        "from BigDFT.Fragments import Fragment\n",
        "from BigDFT.Atoms import Atom\n",
        "\n",
        "at = Atom({\"He\": [0, 0, 0]})\n",
        "frag = Fragment([at])\n",
        "sys = System({\"FRA:0\": frag})\n",
        "\n",
        "from BigDFT.Calculators import SystemCalculator\n",
        "code = SystemCalculator()\n",
        "\n",
        "from BigDFT.Inputfiles import Inputfile\n",
        "inp = Inputfile()\n",
        "inp.set_xc(\"PBE\")\n",
        "inp.set_hgrid(0.4)\n",
        "\n",
        "log = code.run(sys=sys, input=inp)\n",
        "print(log.energy)"
      ],
      "metadata": {
        "id": "KzbuGVmJvewP"
      },
      "execution_count": null,
      "outputs": []
    },
    {
      "cell_type": "code",
      "source": [],
      "metadata": {
        "id": "5Xk__Ga-vhwe"
      },
      "execution_count": null,
      "outputs": []
    }
  ]
}